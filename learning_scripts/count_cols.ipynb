{
 "cells": [
  {
   "cell_type": "code",
   "execution_count": 2,
   "metadata": {},
   "outputs": [],
   "source": [
    "import pandas as pd"
   ]
  },
  {
   "cell_type": "code",
   "execution_count": 3,
   "metadata": {},
   "outputs": [],
   "source": [
    "df = pd.read_csv('/Users/charliecoleman/Desktop/Git/Repositories/interview_practice/learning_scripts/charlie.csv')"
   ]
  },
  {
   "cell_type": "code",
   "execution_count": 4,
   "metadata": {},
   "outputs": [
    {
     "data": {
      "text/html": [
       "<div>\n",
       "<style scoped>\n",
       "    .dataframe tbody tr th:only-of-type {\n",
       "        vertical-align: middle;\n",
       "    }\n",
       "\n",
       "    .dataframe tbody tr th {\n",
       "        vertical-align: top;\n",
       "    }\n",
       "\n",
       "    .dataframe thead th {\n",
       "        text-align: right;\n",
       "    }\n",
       "</style>\n",
       "<table border=\"1\" class=\"dataframe\">\n",
       "  <thead>\n",
       "    <tr style=\"text-align: right;\">\n",
       "      <th></th>\n",
       "      <th>MOSAIC_UK_6_GROUP_NAME</th>\n",
       "      <th>MOSAIC_UK_6_TYPE_NAME</th>\n",
       "    </tr>\n",
       "  </thead>\n",
       "  <tbody>\n",
       "    <tr>\n",
       "      <th>0</th>\n",
       "      <td>Rental Hubs</td>\n",
       "      <td>Bus-Route Renters</td>\n",
       "    </tr>\n",
       "    <tr>\n",
       "      <th>1</th>\n",
       "      <td>Suburban Stability</td>\n",
       "      <td>Family Ties</td>\n",
       "    </tr>\n",
       "    <tr>\n",
       "      <th>2</th>\n",
       "      <td>Transient Renters</td>\n",
       "      <td>Renting Rooms</td>\n",
       "    </tr>\n",
       "    <tr>\n",
       "      <th>3</th>\n",
       "      <td>Modest Traditions</td>\n",
       "      <td>Back with the Folks</td>\n",
       "    </tr>\n",
       "    <tr>\n",
       "      <th>4</th>\n",
       "      <td>Vintage Value</td>\n",
       "      <td>Estate Veterans</td>\n",
       "    </tr>\n",
       "    <tr>\n",
       "      <th>...</th>\n",
       "      <td>...</td>\n",
       "      <td>...</td>\n",
       "    </tr>\n",
       "    <tr>\n",
       "      <th>30919</th>\n",
       "      <td>Prestige Positions</td>\n",
       "      <td>Alpha Families</td>\n",
       "    </tr>\n",
       "    <tr>\n",
       "      <th>30920</th>\n",
       "      <td>Rural Reality</td>\n",
       "      <td>Local Focus</td>\n",
       "    </tr>\n",
       "    <tr>\n",
       "      <th>30921</th>\n",
       "      <td>Aspiring Homemakers</td>\n",
       "      <td>Flying Solo</td>\n",
       "    </tr>\n",
       "    <tr>\n",
       "      <th>30922</th>\n",
       "      <td>Aspiring Homemakers</td>\n",
       "      <td>Contemporary Starts</td>\n",
       "    </tr>\n",
       "    <tr>\n",
       "      <th>30923</th>\n",
       "      <td>NaN</td>\n",
       "      <td>NaN</td>\n",
       "    </tr>\n",
       "  </tbody>\n",
       "</table>\n",
       "<p>30924 rows × 2 columns</p>\n",
       "</div>"
      ],
      "text/plain": [
       "      MOSAIC_UK_6_GROUP_NAME MOSAIC_UK_6_TYPE_NAME\n",
       "0                Rental Hubs     Bus-Route Renters\n",
       "1         Suburban Stability           Family Ties\n",
       "2          Transient Renters         Renting Rooms\n",
       "3          Modest Traditions   Back with the Folks\n",
       "4              Vintage Value       Estate Veterans\n",
       "...                      ...                   ...\n",
       "30919     Prestige Positions        Alpha Families\n",
       "30920          Rural Reality           Local Focus\n",
       "30921    Aspiring Homemakers           Flying Solo\n",
       "30922    Aspiring Homemakers   Contemporary Starts\n",
       "30923                    NaN                   NaN\n",
       "\n",
       "[30924 rows x 2 columns]"
      ]
     },
     "execution_count": 4,
     "metadata": {},
     "output_type": "execute_result"
    }
   ],
   "source": [
    "df"
   ]
  },
  {
   "cell_type": "code",
   "execution_count": 5,
   "metadata": {},
   "outputs": [
    {
     "data": {
      "text/plain": [
       "Aspiring Homemakers    5283\n",
       "Family Basics          4037\n",
       "Transient Renters      3465\n",
       "Domestic Success       2895\n",
       "Senior Security        2365\n",
       "Suburban Stability     2356\n",
       "Prestige Positions     1926\n",
       "Modest Traditions      1923\n",
       "Rental Hubs            1729\n",
       "Urban Cohesion         1468\n",
       "Vintage Value          1234\n",
       "Municipal Tenants       928\n",
       "Rural Reality           876\n",
       "Country Living          380\n",
       "City Prosperity          58\n",
       "Name: MOSAIC_UK_6_GROUP_NAME, dtype: int64"
      ]
     },
     "execution_count": 5,
     "metadata": {},
     "output_type": "execute_result"
    }
   ],
   "source": [
    "df['MOSAIC_UK_6_GROUP_NAME'].value_counts()"
   ]
  },
  {
   "cell_type": "code",
   "execution_count": 6,
   "metadata": {},
   "outputs": [
    {
     "data": {
      "text/plain": [
       "array(['Rental Hubs', 'Suburban Stability', 'Transient Renters',\n",
       "       'Modest Traditions', 'Vintage Value', 'Senior Security',\n",
       "       'Aspiring Homemakers', 'Family Basics', 'Prestige Positions',\n",
       "       'Domestic Success', 'Municipal Tenants', 'Urban Cohesion',\n",
       "       'Rural Reality', 'Country Living', 'City Prosperity', nan],\n",
       "      dtype=object)"
      ]
     },
     "execution_count": 6,
     "metadata": {},
     "output_type": "execute_result"
    }
   ],
   "source": [
    "col_vals = df['MOSAIC_UK_6_GROUP_NAME'].values.ravel()\n",
    "unique_vals = pd.unique(col_vals)\n",
    "unique_vals"
   ]
  },
  {
   "cell_type": "code",
   "execution_count": 7,
   "metadata": {},
   "outputs": [
    {
     "data": {
      "text/plain": [
       "MOSAIC_UK_6_GROUP_NAME  MOSAIC_UK_6_TYPE_NAME\n",
       "Modest Traditions       Modest Traditions        390\n",
       "dtype: int64"
      ]
     },
     "execution_count": 7,
     "metadata": {},
     "output_type": "execute_result"
    }
   ],
   "source": [
    "df[df['MOSAIC_UK_6_TYPE_NAME'] == df['MOSAIC_UK_6_GROUP_NAME']].value_counts()"
   ]
  },
  {
   "cell_type": "code",
   "execution_count": 8,
   "metadata": {},
   "outputs": [
    {
     "data": {
      "text/plain": [
       "array(['Bus-Route Renters', 'Family Ties', 'Renting Rooms',\n",
       "       'Back with the Folks', 'Estate Veterans', 'Midlife Renters',\n",
       "       'Bungalow Haven', 'Primary Ambitions', 'Families on a Budget',\n",
       "       'Affordable Fringe', 'Flatlet Seniors', 'Bank of Mum and Dad',\n",
       "       'First-Rung Futures', 'Boomerang Boarders', 'Economical Families',\n",
       "       'Flying Solo', 'Pocket Pensions', 'Contemporary Starts',\n",
       "       'Thriving Independence', 'Self Supporters',\n",
       "       'Mid-Career Convention', 'Empty-Nest Adventure', 'Modern Parents',\n",
       "       'Alpha Families', 'Classic Grandparents', 'Dependable Me',\n",
       "       'Seasoned Survivors', 'Fledgling Free', 'Legacy Elders',\n",
       "       'Solo Retirees', 'Solid Economy', 'Budget Generations',\n",
       "       'Diamond Days', 'Modest Traditions', 'Single Essentials',\n",
       "       'Career Builders', 'Value Rentals', 'Mature Workers',\n",
       "       'New Foundations', 'Learners & Earners', 'Youthful Endeavours',\n",
       "       'Culture & Comfort', 'Large Family Living', 'Ageing Access',\n",
       "       'Central Pulse', 'Student Scene', 'Satellite Settlers',\n",
       "       'Village Retirement', 'Wealthy Landowners',\n",
       "       'Retirement Communities', 'Premium Fortunes', 'Local Focus',\n",
       "       'Outlying Seniors', 'Rural Vogue', 'Cafes and Catchments',\n",
       "       'Flexible Workforce', 'Community Elders', 'Uptown Elite',\n",
       "       'Inner City Stalwarts', 'Metro High-Flyers', 'High Rise Residents',\n",
       "       'City Diversity', 'Scattered Homesteads', 'World-Class Wealth',\n",
       "       nan], dtype=object)"
      ]
     },
     "execution_count": 8,
     "metadata": {},
     "output_type": "execute_result"
    }
   ],
   "source": [
    "col_vals = df['MOSAIC_UK_6_TYPE_NAME'].values.ravel()\n",
    "unique_vals = pd.unique(col_vals)\n",
    "unique_vals"
   ]
  },
  {
   "cell_type": "code",
   "execution_count": 9,
   "metadata": {},
   "outputs": [
    {
     "data": {
      "text/html": [
       "<div>\n",
       "<style scoped>\n",
       "    .dataframe tbody tr th:only-of-type {\n",
       "        vertical-align: middle;\n",
       "    }\n",
       "\n",
       "    .dataframe tbody tr th {\n",
       "        vertical-align: top;\n",
       "    }\n",
       "\n",
       "    .dataframe thead th {\n",
       "        text-align: right;\n",
       "    }\n",
       "</style>\n",
       "<table border=\"1\" class=\"dataframe\">\n",
       "  <thead>\n",
       "    <tr style=\"text-align: right;\">\n",
       "      <th></th>\n",
       "      <th>MOSAIC_UK_6_GROUP_NAME</th>\n",
       "      <th>MOSAIC_UK_6_TYPE_NAME</th>\n",
       "    </tr>\n",
       "  </thead>\n",
       "  <tbody>\n",
       "    <tr>\n",
       "      <th>0</th>\n",
       "      <td>Rental Hubs</td>\n",
       "      <td>Bus-Route Renters</td>\n",
       "    </tr>\n",
       "    <tr>\n",
       "      <th>1</th>\n",
       "      <td>Suburban Stability</td>\n",
       "      <td>Family Ties</td>\n",
       "    </tr>\n",
       "    <tr>\n",
       "      <th>2</th>\n",
       "      <td>Transient Renters</td>\n",
       "      <td>Renting Rooms</td>\n",
       "    </tr>\n",
       "    <tr>\n",
       "      <th>3</th>\n",
       "      <td>Modest Traditions</td>\n",
       "      <td>Back with the Folks</td>\n",
       "    </tr>\n",
       "    <tr>\n",
       "      <th>4</th>\n",
       "      <td>Vintage Value</td>\n",
       "      <td>Estate Veterans</td>\n",
       "    </tr>\n",
       "    <tr>\n",
       "      <th>...</th>\n",
       "      <td>...</td>\n",
       "      <td>...</td>\n",
       "    </tr>\n",
       "    <tr>\n",
       "      <th>30919</th>\n",
       "      <td>Prestige Positions</td>\n",
       "      <td>Alpha Families</td>\n",
       "    </tr>\n",
       "    <tr>\n",
       "      <th>30920</th>\n",
       "      <td>Rural Reality</td>\n",
       "      <td>Local Focus</td>\n",
       "    </tr>\n",
       "    <tr>\n",
       "      <th>30921</th>\n",
       "      <td>Aspiring Homemakers</td>\n",
       "      <td>Flying Solo</td>\n",
       "    </tr>\n",
       "    <tr>\n",
       "      <th>30922</th>\n",
       "      <td>Aspiring Homemakers</td>\n",
       "      <td>Contemporary Starts</td>\n",
       "    </tr>\n",
       "    <tr>\n",
       "      <th>30923</th>\n",
       "      <td>NaN</td>\n",
       "      <td>NaN</td>\n",
       "    </tr>\n",
       "  </tbody>\n",
       "</table>\n",
       "<p>30924 rows × 2 columns</p>\n",
       "</div>"
      ],
      "text/plain": [
       "      MOSAIC_UK_6_GROUP_NAME MOSAIC_UK_6_TYPE_NAME\n",
       "0                Rental Hubs     Bus-Route Renters\n",
       "1         Suburban Stability           Family Ties\n",
       "2          Transient Renters         Renting Rooms\n",
       "3          Modest Traditions   Back with the Folks\n",
       "4              Vintage Value       Estate Veterans\n",
       "...                      ...                   ...\n",
       "30919     Prestige Positions        Alpha Families\n",
       "30920          Rural Reality           Local Focus\n",
       "30921    Aspiring Homemakers           Flying Solo\n",
       "30922    Aspiring Homemakers   Contemporary Starts\n",
       "30923                    NaN                   NaN\n",
       "\n",
       "[30924 rows x 2 columns]"
      ]
     },
     "execution_count": 9,
     "metadata": {},
     "output_type": "execute_result"
    }
   ],
   "source": [
    "df"
   ]
  },
  {
   "cell_type": "code",
   "execution_count": 16,
   "metadata": {},
   "outputs": [
    {
     "data": {
      "text/plain": [
       "MOSAIC_UK_6_GROUP_NAME  MOSAIC_UK_6_TYPE_NAME\n",
       "Rental Hubs             Learners & Earners       561\n",
       "                        Bus-Route Renters        327\n",
       "                        Career Builders          325\n",
       "                        Student Scene            196\n",
       "                        Central Pulse            185\n",
       "                        Flexible Workforce       135\n",
       "dtype: int64"
      ]
     },
     "execution_count": 16,
     "metadata": {},
     "output_type": "execute_result"
    }
   ],
   "source": [
    "df[df[\"MOSAIC_UK_6_GROUP_NAME\"] == 'Rental Hubs'].value_counts()"
   ]
  },
  {
   "cell_type": "code",
   "execution_count": 39,
   "metadata": {},
   "outputs": [
    {
     "data": {
      "text/plain": [
       "6"
      ]
     },
     "execution_count": 39,
     "metadata": {},
     "output_type": "execute_result"
    }
   ],
   "source": [
    "df['MOSAIC_UK_6_TYPE_NAME'][df[\"MOSAIC_UK_6_GROUP_NAME\"] == 'Rental Hubs'].nunique()"
   ]
  },
  {
   "cell_type": "code",
   "execution_count": 32,
   "metadata": {},
   "outputs": [
    {
     "data": {
      "text/plain": [
       "'Rental Hubs'"
      ]
     },
     "execution_count": 32,
     "metadata": {},
     "output_type": "execute_result"
    }
   ],
   "source": [
    "unique_names = df['MOSAIC_UK_6_GROUP_NAME'].unique()"
   ]
  },
  {
   "cell_type": "code",
   "execution_count": 46,
   "metadata": {},
   "outputs": [],
   "source": [
    "dict = {}\n",
    "for i in range(0, len(unique_names)):\n",
    "    count = df['MOSAIC_UK_6_TYPE_NAME'][df[\"MOSAIC_UK_6_GROUP_NAME\"] == unique_names[i]].nunique()\n",
    "    dict[unique_names[i]] = count"
   ]
  },
  {
   "cell_type": "code",
   "execution_count": 47,
   "metadata": {},
   "outputs": [
    {
     "data": {
      "text/plain": [
       "{'Rental Hubs': 6,\n",
       " 'Suburban Stability': 4,\n",
       " 'Transient Renters': 4,\n",
       " 'Modest Traditions': 3,\n",
       " 'Vintage Value': 5,\n",
       " 'Senior Security': 4,\n",
       " 'Aspiring Homemakers': 6,\n",
       " 'Family Basics': 4,\n",
       " 'Prestige Positions': 5,\n",
       " 'Domestic Success': 4,\n",
       " 'Municipal Tenants': 5,\n",
       " 'Urban Cohesion': 4,\n",
       " 'Rural Reality': 3,\n",
       " 'Country Living': 4,\n",
       " 'City Prosperity': 3,\n",
       " nan: 0}"
      ]
     },
     "execution_count": 47,
     "metadata": {},
     "output_type": "execute_result"
    }
   ],
   "source": [
    "dict"
   ]
  },
  {
   "cell_type": "code",
   "execution_count": null,
   "metadata": {},
   "outputs": [],
   "source": []
  }
 ],
 "metadata": {
  "interpreter": {
   "hash": "e355ac79caf9f77be2a1df8bc6da185692c482cde7509748423370ea3cb19758"
  },
  "kernelspec": {
   "display_name": "Python 3.9.7 64-bit ('interview_env': conda)",
   "language": "python",
   "name": "python3"
  },
  "language_info": {
   "codemirror_mode": {
    "name": "ipython",
    "version": 3
   },
   "file_extension": ".py",
   "mimetype": "text/x-python",
   "name": "python",
   "nbconvert_exporter": "python",
   "pygments_lexer": "ipython3",
   "version": "3.9.7"
  },
  "orig_nbformat": 4
 },
 "nbformat": 4,
 "nbformat_minor": 2
}
